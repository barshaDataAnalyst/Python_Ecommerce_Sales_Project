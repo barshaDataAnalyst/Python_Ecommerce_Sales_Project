{
 "cells": [
  {
   "cell_type": "markdown",
   "id": "4cc78dce",
   "metadata": {},
   "source": [
    "# Note :\n",
    "\n",
    "### Exploratory data analysis :-\n",
    "\n",
    "Exploratory data analysis(EDA) is an approach of analyzing data set to summarize their main characteristics, often using statistical graphics and other data visualization methods.\n",
    "\n",
    "#### Types of EDA :\n",
    "\n",
    "1. Univariate Analysis                        4.Time Series Analysis\n",
    "2. Bivariate analysis                         5. Missing Data Analysis\n",
    "3. Multivariate Analysis                      6. Outlier Analysis"
   ]
  },
  {
   "cell_type": "code",
   "execution_count": 1,
   "id": "e481f003",
   "metadata": {},
   "outputs": [],
   "source": [
    "import numpy as np\n",
    "import pandas as pd\n",
    "import matplotlib.pyplot as plt\n",
    "import seaborn as sns"
   ]
  },
  {
   "cell_type": "code",
   "execution_count": 9,
   "id": "90029871",
   "metadata": {},
   "outputs": [],
   "source": [
    "pd.set_option(\"display.max_columns\",24)"
   ]
  },
  {
   "cell_type": "code",
   "execution_count": 10,
   "id": "ad8f05db",
   "metadata": {},
   "outputs": [],
   "source": [
    "dataset = pd.read_excel('Superstore_USA.xlsx')"
   ]
  },
  {
   "cell_type": "code",
   "execution_count": 11,
   "id": "e049959a",
   "metadata": {},
   "outputs": [
    {
     "data": {
      "text/html": [
       "<div>\n",
       "<style scoped>\n",
       "    .dataframe tbody tr th:only-of-type {\n",
       "        vertical-align: middle;\n",
       "    }\n",
       "\n",
       "    .dataframe tbody tr th {\n",
       "        vertical-align: top;\n",
       "    }\n",
       "\n",
       "    .dataframe thead th {\n",
       "        text-align: right;\n",
       "    }\n",
       "</style>\n",
       "<table border=\"1\" class=\"dataframe\">\n",
       "  <thead>\n",
       "    <tr style=\"text-align: right;\">\n",
       "      <th></th>\n",
       "      <th>Row ID</th>\n",
       "      <th>Order Priority</th>\n",
       "      <th>Discount</th>\n",
       "      <th>Unit Price</th>\n",
       "      <th>Shipping Cost</th>\n",
       "      <th>Customer ID</th>\n",
       "      <th>Customer Name</th>\n",
       "      <th>Ship Mode</th>\n",
       "      <th>Customer Segment</th>\n",
       "      <th>Product Category</th>\n",
       "      <th>Product Sub-Category</th>\n",
       "      <th>Product Container</th>\n",
       "      <th>Product Name</th>\n",
       "      <th>Product Base Margin</th>\n",
       "      <th>Region</th>\n",
       "      <th>State or Province</th>\n",
       "      <th>City</th>\n",
       "      <th>Postal Code</th>\n",
       "      <th>Order Date</th>\n",
       "      <th>Ship Date</th>\n",
       "      <th>Profit</th>\n",
       "      <th>Quantity ordered new</th>\n",
       "      <th>Sales</th>\n",
       "      <th>Order ID</th>\n",
       "    </tr>\n",
       "  </thead>\n",
       "  <tbody>\n",
       "    <tr>\n",
       "      <th>0</th>\n",
       "      <td>18606</td>\n",
       "      <td>Not Specified</td>\n",
       "      <td>0.01</td>\n",
       "      <td>2.88</td>\n",
       "      <td>0.50</td>\n",
       "      <td>2</td>\n",
       "      <td>Janice Fletcher</td>\n",
       "      <td>Regular Air</td>\n",
       "      <td>Corporate</td>\n",
       "      <td>Office Supplies</td>\n",
       "      <td>Labels</td>\n",
       "      <td>Small Box</td>\n",
       "      <td>Avery 49</td>\n",
       "      <td>0.36</td>\n",
       "      <td>Central</td>\n",
       "      <td>Illinois</td>\n",
       "      <td>Addison</td>\n",
       "      <td>60101</td>\n",
       "      <td>2012-05-28</td>\n",
       "      <td>2012-05-30</td>\n",
       "      <td>1.32</td>\n",
       "      <td>2</td>\n",
       "      <td>5.90</td>\n",
       "      <td>88525</td>\n",
       "    </tr>\n",
       "    <tr>\n",
       "      <th>1</th>\n",
       "      <td>20847</td>\n",
       "      <td>High</td>\n",
       "      <td>0.01</td>\n",
       "      <td>2.84</td>\n",
       "      <td>0.93</td>\n",
       "      <td>3</td>\n",
       "      <td>Bonnie Potter</td>\n",
       "      <td>Express Air</td>\n",
       "      <td>Corporate</td>\n",
       "      <td>Office Supplies</td>\n",
       "      <td>Pens &amp; Art Supplies</td>\n",
       "      <td>Wrap Bag</td>\n",
       "      <td>SANFORD Liquid Accent™ Tank-Style Highlighters</td>\n",
       "      <td>0.54</td>\n",
       "      <td>West</td>\n",
       "      <td>Washington</td>\n",
       "      <td>Anacortes</td>\n",
       "      <td>98221</td>\n",
       "      <td>2010-07-07</td>\n",
       "      <td>2010-07-08</td>\n",
       "      <td>4.56</td>\n",
       "      <td>4</td>\n",
       "      <td>13.01</td>\n",
       "      <td>88522</td>\n",
       "    </tr>\n",
       "  </tbody>\n",
       "</table>\n",
       "</div>"
      ],
      "text/plain": [
       "   Row ID Order Priority  Discount  Unit Price  Shipping Cost  Customer ID  \\\n",
       "0   18606  Not Specified      0.01        2.88           0.50            2   \n",
       "1   20847           High      0.01        2.84           0.93            3   \n",
       "\n",
       "     Customer Name    Ship Mode Customer Segment Product Category  \\\n",
       "0  Janice Fletcher  Regular Air        Corporate  Office Supplies   \n",
       "1    Bonnie Potter  Express Air        Corporate  Office Supplies   \n",
       "\n",
       "  Product Sub-Category Product Container  \\\n",
       "0               Labels         Small Box   \n",
       "1  Pens & Art Supplies          Wrap Bag   \n",
       "\n",
       "                                     Product Name  Product Base Margin  \\\n",
       "0                                        Avery 49                 0.36   \n",
       "1  SANFORD Liquid Accent™ Tank-Style Highlighters                 0.54   \n",
       "\n",
       "    Region State or Province       City  Postal Code Order Date  Ship Date  \\\n",
       "0  Central          Illinois    Addison        60101 2012-05-28 2012-05-30   \n",
       "1     West        Washington  Anacortes        98221 2010-07-07 2010-07-08   \n",
       "\n",
       "   Profit  Quantity ordered new  Sales  Order ID  \n",
       "0    1.32                     2   5.90     88525  \n",
       "1    4.56                     4  13.01     88522  "
      ]
     },
     "execution_count": 11,
     "metadata": {},
     "output_type": "execute_result"
    }
   ],
   "source": [
    "dataset.head(2)"
   ]
  },
  {
   "cell_type": "code",
   "execution_count": 12,
   "id": "243113c9",
   "metadata": {},
   "outputs": [
    {
     "data": {
      "text/plain": [
       "(9426, 24)"
      ]
     },
     "execution_count": 12,
     "metadata": {},
     "output_type": "execute_result"
    }
   ],
   "source": [
    "dataset.shape"
   ]
  },
  {
   "cell_type": "code",
   "execution_count": 14,
   "id": "f9a645df",
   "metadata": {},
   "outputs": [
    {
     "data": {
      "text/plain": [
       "Row ID                   0\n",
       "Order Priority           0\n",
       "Discount                 0\n",
       "Unit Price               0\n",
       "Shipping Cost            0\n",
       "Customer ID              0\n",
       "Customer Name            0\n",
       "Ship Mode                0\n",
       "Customer Segment         0\n",
       "Product Category         0\n",
       "Product Sub-Category     0\n",
       "Product Container        0\n",
       "Product Name             0\n",
       "Product Base Margin     72\n",
       "Region                   0\n",
       "State or Province        0\n",
       "City                     0\n",
       "Postal Code              0\n",
       "Order Date               0\n",
       "Ship Date                0\n",
       "Profit                   0\n",
       "Quantity ordered new     0\n",
       "Sales                    0\n",
       "Order ID                 0\n",
       "dtype: int64"
      ]
     },
     "execution_count": 14,
     "metadata": {},
     "output_type": "execute_result"
    }
   ],
   "source": [
    "dataset.isnull().sum()"
   ]
  },
  {
   "cell_type": "code",
   "execution_count": 19,
   "id": "ef8d160a",
   "metadata": {},
   "outputs": [],
   "source": [
    "#fill Missing value\n",
    "dataset.fillna(dataset['Product Base Margin'].mean(),inplace=True)"
   ]
  },
  {
   "cell_type": "code",
   "execution_count": 20,
   "id": "33c42876",
   "metadata": {},
   "outputs": [
    {
     "data": {
      "text/plain": [
       "Row ID                  0\n",
       "Order Priority          0\n",
       "Discount                0\n",
       "Unit Price              0\n",
       "Shipping Cost           0\n",
       "Customer ID             0\n",
       "Customer Name           0\n",
       "Ship Mode               0\n",
       "Customer Segment        0\n",
       "Product Category        0\n",
       "Product Sub-Category    0\n",
       "Product Container       0\n",
       "Product Name            0\n",
       "Product Base Margin     0\n",
       "Region                  0\n",
       "State or Province       0\n",
       "City                    0\n",
       "Postal Code             0\n",
       "Order Date              0\n",
       "Ship Date               0\n",
       "Profit                  0\n",
       "Quantity ordered new    0\n",
       "Sales                   0\n",
       "Order ID                0\n",
       "dtype: int64"
      ]
     },
     "execution_count": 20,
     "metadata": {},
     "output_type": "execute_result"
    }
   ],
   "source": [
    "dataset.isnull().sum()"
   ]
  },
  {
   "cell_type": "markdown",
   "id": "40b0f6e7",
   "metadata": {},
   "source": [
    "# Univariate Analysis"
   ]
  },
  {
   "cell_type": "markdown",
   "id": "1f276703",
   "metadata": {},
   "source": [
    "### Order Priority"
   ]
  },
  {
   "cell_type": "code",
   "execution_count": 21,
   "id": "29fb34c6",
   "metadata": {},
   "outputs": [
    {
     "data": {
      "text/plain": [
       "High             1970\n",
       "Low              1926\n",
       "Not Specified    1881\n",
       "Medium           1844\n",
       "Critical         1804\n",
       "Critical            1\n",
       "Name: Order Priority, dtype: int64"
      ]
     },
     "execution_count": 21,
     "metadata": {},
     "output_type": "execute_result"
    }
   ],
   "source": [
    "dataset['Order Priority'].value_counts()"
   ]
  },
  {
   "cell_type": "code",
   "execution_count": 22,
   "id": "fc017837",
   "metadata": {},
   "outputs": [
    {
     "data": {
      "text/plain": [
       "array(['Not Specified', 'High', 'Medium', 'Low', 'Critical', 'Critical '],\n",
       "      dtype=object)"
      ]
     },
     "execution_count": 22,
     "metadata": {},
     "output_type": "execute_result"
    }
   ],
   "source": [
    "dataset['Order Priority'].unique()"
   ]
  },
  {
   "cell_type": "code",
   "execution_count": 23,
   "id": "4c4024b9",
   "metadata": {},
   "outputs": [],
   "source": [
    "#replace 'Critical ' to 'Critical' data\n",
    "dataset['Order Priority'] = dataset[\"Order Priority\"].replace(\"Critical \",\"Critical\")"
   ]
  },
  {
   "cell_type": "code",
   "execution_count": 24,
   "id": "e335a328",
   "metadata": {},
   "outputs": [
    {
     "data": {
      "text/plain": [
       "High             1970\n",
       "Low              1926\n",
       "Not Specified    1881\n",
       "Medium           1844\n",
       "Critical         1805\n",
       "Name: Order Priority, dtype: int64"
      ]
     },
     "execution_count": 24,
     "metadata": {},
     "output_type": "execute_result"
    }
   ],
   "source": [
    "dataset['Order Priority'].value_counts()"
   ]
  },
  {
   "cell_type": "code",
   "execution_count": 26,
   "id": "21a32779",
   "metadata": {},
   "outputs": [
    {
     "data": {
      "image/png": "[encoded data removed]",
      "text/plain": [
       "<Figure size 432x288 with 1 Axes>"
      ]
     },
     "metadata": {
      "needs_background": "light"
     },
     "output_type": "display_data"
    }
   ],
   "source": [
    "sns.countplot(x = 'Order Priority',data=dataset)\n",
    "plt.title(\"Count of Order Priority\")\n",
    "plt.show()"
   ]
  },
  {
   "cell_type": "markdown",
   "id": "a212f917",
   "metadata": {},
   "source": [
    "### Ship Mode  "
   ]
  },
  {
   "cell_type": "code",
   "execution_count": 27,
   "id": "70dc1bee",
   "metadata": {},
   "outputs": [
    {
     "data": {
      "text/plain": [
       "Regular Air       7036\n",
       "Delivery Truck    1283\n",
       "Express Air       1107\n",
       "Name: Ship Mode, dtype: int64"
      ]
     },
     "execution_count": 27,
     "metadata": {},
     "output_type": "execute_result"
    }
   ],
   "source": [
    "dataset['Ship Mode'].value_counts()"
   ]
  },
  {
   "cell_type": "code",
   "execution_count": 33,
   "id": "e601a303",
   "metadata": {},
   "outputs": [
    {
     "data": {
      "text/plain": [
       "Index(['Regular Air', 'Delivery Truck', 'Express Air'], dtype='object')"
      ]
     },
     "execution_count": 33,
     "metadata": {},
     "output_type": "execute_result"
    }
   ],
   "source": [
    "dataset['Ship Mode'].value_counts().index"
   ]
  },
  {
   "cell_type": "code",
   "execution_count": 30,
   "id": "35e2624c",
   "metadata": {},
   "outputs": [
    {
     "data": {
      "text/plain": [
       "array([7036, 1283, 1107], dtype=int64)"
      ]
     },
     "execution_count": 30,
     "metadata": {},
     "output_type": "execute_result"
    }
   ],
   "source": [
    "dataset['Ship Mode'].value_counts().values"
   ]
  },
  {
   "cell_type": "code",
   "execution_count": 34,
   "id": "3af3d050",
   "metadata": {},
   "outputs": [],
   "source": [
    "x = dataset['Ship Mode'].value_counts().index\n",
    "y = dataset['Ship Mode'].value_counts().values"
   ]
  },
  {
   "cell_type": "code",
   "execution_count": 43,
   "id": "897292cf",
   "metadata": {},
   "outputs": [
    {
     "data": {
      "image/png": "[encoded data removed]",
      "text/plain": [
       "<Figure size 360x288 with 1 Axes>"
      ]
     },
     "metadata": {},
     "output_type": "display_data"
    }
   ],
   "source": [
    "plt.figure(figsize=(5,4))\n",
    "#use of (startangle=60) for rotate the pie chart & use of (autopact=\"%0.2f%%\") for show the percentage value of the chart.\n",
    "plt.pie(y,labels=x,startangle = 60,autopct=\"%0.2f%%\")\n",
    "#use of (plt.legend(loc=2)) for change the location of legend .\n",
    "plt.legend(loc=2)\n",
    "plt.show()"
   ]
  },
  {
   "cell_type": "markdown",
   "id": "eab7f8ae",
   "metadata": {},
   "source": [
    "# Bivariate analysis"
   ]
  },
  {
   "cell_type": "markdown",
   "id": "107a289c",
   "metadata": {},
   "source": [
    "### Basis on  'Ship Mode' & 'Product Category'"
   ]
  },
  {
   "cell_type": "code",
   "execution_count": 48,
   "id": "38d1cfe5",
   "metadata": {},
   "outputs": [
    {
     "data": {
      "image/png": "[encoded data removed]",
      "text/plain": [
       "<Figure size 432x360 with 1 Axes>"
      ]
     },
     "metadata": {
      "needs_background": "light"
     },
     "output_type": "display_data"
    }
   ],
   "source": [
    "plt.figure(figsize=(6,5))\n",
    "sns.countplot(x = 'Ship Mode', data=dataset, hue=\"Product Category\")\n",
    "plt.show()"
   ]
  },
  {
   "cell_type": "markdown",
   "id": "21c1c996",
   "metadata": {},
   "source": [
    "### Customer Segment"
   ]
  },
  {
   "cell_type": "code",
   "execution_count": 50,
   "id": "315fc407",
   "metadata": {},
   "outputs": [
    {
     "data": {
      "image/png": "[encoded data removed]",
      "text/plain": [
       "<Figure size 432x288 with 1 Axes>"
      ]
     },
     "metadata": {
      "needs_background": "light"
     },
     "output_type": "display_data"
    }
   ],
   "source": [
    "sns.countplot(x = 'Customer Segment',data=dataset)\n",
    "plt.show()"
   ]
  },
  {
   "cell_type": "markdown",
   "id": "adc10208",
   "metadata": {},
   "source": [
    "From the above graph we can see that most of the customer from corporate basis."
   ]
  },
  {
   "cell_type": "markdown",
   "id": "87787b29",
   "metadata": {},
   "source": [
    "### Product Category "
   ]
  },
  {
   "cell_type": "code",
   "execution_count": 51,
   "id": "2e831ee8",
   "metadata": {},
   "outputs": [
    {
     "data": {
      "image/png": "[encoded data removed]",
      "text/plain": [
       "<Figure size 432x288 with 1 Axes>"
      ]
     },
     "metadata": {
      "needs_background": "light"
     },
     "output_type": "display_data"
    }
   ],
   "source": [
    "sns.countplot(x = 'Product Category',data=dataset)\n",
    "plt.show()"
   ]
  },
  {
   "cell_type": "markdown",
   "id": "03f9f5d0",
   "metadata": {},
   "source": [
    "From the above graph we can see that office supplies are most selling product here."
   ]
  },
  {
   "cell_type": "markdown",
   "id": "141dbbfb",
   "metadata": {},
   "source": [
    "### Basis on 'Product Category' & 'Product Sub-Category'"
   ]
  },
  {
   "cell_type": "code",
   "execution_count": 53,
   "id": "c1a94430",
   "metadata": {},
   "outputs": [
    {
     "data": {
      "image/png": "[encoded data removed]",
      "text/plain": [
       "<Figure size 432x288 with 1 Axes>"
      ]
     },
     "metadata": {
      "needs_background": "light"
     },
     "output_type": "display_data"
    }
   ],
   "source": [
    "sns.countplot(x = 'Product Category', data=dataset, hue=\"Product Sub-Category\")\n",
    "plt.show()"
   ]
  },
  {
   "cell_type": "code",
   "execution_count": 61,
   "id": "531a99d9",
   "metadata": {},
   "outputs": [
    {
     "data": {
      "image/png": "[encoded data removed]",
      "text/plain": [
       "<Figure size 720x792 with 1 Axes>"
      ]
     },
     "metadata": {
      "needs_background": "light"
     },
     "output_type": "display_data"
    }
   ],
   "source": [
    "plt.figure(figsize=(10,11))\n",
    "sns.countplot(x = 'Product Category', data=dataset[dataset[\"Product Category\"]==\"Office Supplies\"], hue=\"Product Sub-Category\")\n",
    "plt.show()"
   ]
  },
  {
   "cell_type": "code",
   "execution_count": 65,
   "id": "83fb1f89",
   "metadata": {},
   "outputs": [
    {
     "data": {
      "image/png": "[encoded data removed]",
      "text/plain": [
       "<Figure size 576x648 with 1 Axes>"
      ]
     },
     "metadata": {
      "needs_background": "light"
     },
     "output_type": "display_data"
    }
   ],
   "source": [
    "plt.figure(figsize=(8,9))\n",
    "sns.countplot(x = 'Product Category', data=dataset[dataset[\"Product Category\"]==\"Technology\"], hue=\"Product Sub-Category\")\n",
    "plt.show()"
   ]
  },
  {
   "cell_type": "code",
   "execution_count": 67,
   "id": "12edec81",
   "metadata": {},
   "outputs": [
    {
     "data": {
      "image/png": "[encoded data removed]",
      "text/plain": [
       "<Figure size 360x360 with 1 Axes>"
      ]
     },
     "metadata": {
      "needs_background": "light"
     },
     "output_type": "display_data"
    }
   ],
   "source": [
    "plt.figure(figsize=(5,5))\n",
    "sns.countplot(x = 'Product Category', data=dataset[dataset[\"Product Category\"]==\"Furniture\"], hue=\"Product Sub-Category\")\n",
    "plt.show()"
   ]
  },
  {
   "cell_type": "code",
   "execution_count": 68,
   "id": "a82199d1",
   "metadata": {},
   "outputs": [
    {
     "name": "stdout",
     "output_type": "stream",
     "text": [
      "<class 'pandas.core.frame.DataFrame'>\n",
      "RangeIndex: 9426 entries, 0 to 9425\n",
      "Data columns (total 24 columns):\n",
      " #   Column                Non-Null Count  Dtype         \n",
      "---  ------                --------------  -----         \n",
      " 0   Row ID                9426 non-null   int64         \n",
      " 1   Order Priority        9426 non-null   object        \n",
      " 2   Discount              9426 non-null   float64       \n",
      " 3   Unit Price            9426 non-null   float64       \n",
      " 4   Shipping Cost         9426 non-null   float64       \n",
      " 5   Customer ID           9426 non-null   int64         \n",
      " 6   Customer Name         9426 non-null   object        \n",
      " 7   Ship Mode             9426 non-null   object        \n",
      " 8   Customer Segment      9426 non-null   object        \n",
      " 9   Product Category      9426 non-null   object        \n",
      " 10  Product Sub-Category  9426 non-null   object        \n",
      " 11  Product Container     9426 non-null   object        \n",
      " 12  Product Name          9426 non-null   object        \n",
      " 13  Product Base Margin   9426 non-null   float64       \n",
      " 14  Region                9426 non-null   object        \n",
      " 15  State or Province     9426 non-null   object        \n",
      " 16  City                  9426 non-null   object        \n",
      " 17  Postal Code           9426 non-null   int64         \n",
      " 18  Order Date            9426 non-null   datetime64[ns]\n",
      " 19  Ship Date             9426 non-null   datetime64[ns]\n",
      " 20  Profit                9426 non-null   float64       \n",
      " 21  Quantity ordered new  9426 non-null   int64         \n",
      " 22  Sales                 9426 non-null   float64       \n",
      " 23  Order ID              9426 non-null   int64         \n",
      "dtypes: datetime64[ns](2), float64(6), int64(5), object(11)\n",
      "memory usage: 1.7+ MB\n"
     ]
    }
   ],
   "source": [
    "dataset.info()"
   ]
  },
  {
   "cell_type": "code",
   "execution_count": 69,
   "id": "ac3ee256",
   "metadata": {},
   "outputs": [
    {
     "data": {
      "text/plain": [
       "0       2012\n",
       "1       2010\n",
       "2       2011\n",
       "3       2011\n",
       "4       2011\n",
       "        ... \n",
       "9421    2013\n",
       "9422    2013\n",
       "9423    2013\n",
       "9424    2010\n",
       "9425    2013\n",
       "Name: Order Date, Length: 9426, dtype: int64"
      ]
     },
     "execution_count": 69,
     "metadata": {},
     "output_type": "execute_result"
    }
   ],
   "source": [
    "# differenciate 'year' from 'Order date'\n",
    "dataset['Order Date'].dt.year"
   ]
  },
  {
   "cell_type": "code",
   "execution_count": 70,
   "id": "a2698f23",
   "metadata": {},
   "outputs": [],
   "source": [
    "# save the above 'year' in a new column named as 'order year'\n",
    "dataset[\"Order year\"] = dataset['Order Date'].dt.year"
   ]
  },
  {
   "cell_type": "code",
   "execution_count": 72,
   "id": "a981b6ed",
   "metadata": {},
   "outputs": [
    {
     "name": "stdout",
     "output_type": "stream",
     "text": [
      "<class 'pandas.core.frame.DataFrame'>\n",
      "RangeIndex: 9426 entries, 0 to 9425\n",
      "Data columns (total 25 columns):\n",
      " #   Column                Non-Null Count  Dtype         \n",
      "---  ------                --------------  -----         \n",
      " 0   Row ID                9426 non-null   int64         \n",
      " 1   Order Priority        9426 non-null   object        \n",
      " 2   Discount              9426 non-null   float64       \n",
      " 3   Unit Price            9426 non-null   float64       \n",
      " 4   Shipping Cost         9426 non-null   float64       \n",
      " 5   Customer ID           9426 non-null   int64         \n",
      " 6   Customer Name         9426 non-null   object        \n",
      " 7   Ship Mode             9426 non-null   object        \n",
      " 8   Customer Segment      9426 non-null   object        \n",
      " 9   Product Category      9426 non-null   object        \n",
      " 10  Product Sub-Category  9426 non-null   object        \n",
      " 11  Product Container     9426 non-null   object        \n",
      " 12  Product Name          9426 non-null   object        \n",
      " 13  Product Base Margin   9426 non-null   float64       \n",
      " 14  Region                9426 non-null   object        \n",
      " 15  State or Province     9426 non-null   object        \n",
      " 16  City                  9426 non-null   object        \n",
      " 17  Postal Code           9426 non-null   int64         \n",
      " 18  Order Date            9426 non-null   datetime64[ns]\n",
      " 19  Ship Date             9426 non-null   datetime64[ns]\n",
      " 20  Profit                9426 non-null   float64       \n",
      " 21  Quantity ordered new  9426 non-null   int64         \n",
      " 22  Sales                 9426 non-null   float64       \n",
      " 23  Order ID              9426 non-null   int64         \n",
      " 24  Order year            9426 non-null   int64         \n",
      "dtypes: datetime64[ns](2), float64(6), int64(6), object(11)\n",
      "memory usage: 1.8+ MB\n"
     ]
    }
   ],
   "source": [
    "# Checked the saved new column 'Order year'\n",
    "dataset.info()"
   ]
  },
  {
   "cell_type": "code",
   "execution_count": 73,
   "id": "9b16f6c6",
   "metadata": {},
   "outputs": [
    {
     "data": {
      "text/plain": [
       "2013    3054\n",
       "2012    2241\n",
       "2011    2179\n",
       "2010    1952\n",
       "Name: Order year, dtype: int64"
      ]
     },
     "execution_count": 73,
     "metadata": {},
     "output_type": "execute_result"
    }
   ],
   "source": [
    "dataset['Order year'].value_counts()"
   ]
  },
  {
   "cell_type": "code",
   "execution_count": 74,
   "id": "0ae1cdf2",
   "metadata": {},
   "outputs": [
    {
     "data": {
      "image/png": "[encoded data removed]",
      "text/plain": [
       "<Figure size 432x288 with 1 Axes>"
      ]
     },
     "metadata": {
      "needs_background": "light"
     },
     "output_type": "display_data"
    }
   ],
   "source": [
    "sns.countplot(x = 'Order year', data=dataset)\n",
    "plt.show()"
   ]
  },
  {
   "cell_type": "markdown",
   "id": "ffc59268",
   "metadata": {},
   "source": [
    "From above graph we can see most of the order, ordered in the year 2013 and every year number of orders gradually increasing."
   ]
  },
  {
   "cell_type": "markdown",
   "id": "58dc8c75",
   "metadata": {},
   "source": [
    "### Basis on 'Product Category' & 'Profit'"
   ]
  },
  {
   "cell_type": "code",
   "execution_count": 89,
   "id": "ff3e471a",
   "metadata": {},
   "outputs": [
    {
     "data": {
      "image/png": "[encoded data removed]",
      "text/plain": [
       "<Figure size 432x288 with 1 Axes>"
      ]
     },
     "metadata": {
      "needs_background": "light"
     },
     "output_type": "display_data"
    }
   ],
   "source": [
    "sns.barplot(x=\"Product Category\",y=\"Profit\",data=dataset,estimator=sum)\n",
    "plt.show()"
   ]
  },
  {
   "cell_type": "markdown",
   "id": "5e71bd8e",
   "metadata": {},
   "source": [
    "from above graph we can see that the highest profit was made in the Technology category."
   ]
  },
  {
   "cell_type": "markdown",
   "id": "d6eb5af9",
   "metadata": {},
   "source": [
    "### State or Province "
   ]
  },
  {
   "cell_type": "code",
   "execution_count": 91,
   "id": "5e765590",
   "metadata": {},
   "outputs": [
    {
     "data": {
      "text/plain": [
       "California              1021\n",
       "Texas                    646\n",
       "Illinois                 584\n",
       "New York                 574\n",
       "Florida                  522\n",
       "Ohio                     396\n",
       "Washington               327\n",
       "Michigan                 327\n",
       "Pennsylvania             271\n",
       "North Carolina           251\n",
       "Indiana                  241\n",
       "Minnesota                239\n",
       "Massachusetts            222\n",
       "Georgia                  214\n",
       "Virginia                 198\n",
       "Maryland                 178\n",
       "Colorado                 177\n",
       "New Jersey               177\n",
       "Wisconsin                169\n",
       "Oregon                   168\n",
       "Tennessee                166\n",
       "Missouri                 161\n",
       "Iowa                     156\n",
       "Utah                     146\n",
       "Arizona                  134\n",
       "Kansas                   133\n",
       "Maine                    128\n",
       "Alabama                  125\n",
       "Arkansas                 123\n",
       "Idaho                    114\n",
       "South Carolina           105\n",
       "Oklahoma                 104\n",
       "Louisiana                 89\n",
       "New Mexico                84\n",
       "Kentucky                  83\n",
       "Connecticut               82\n",
       "Mississippi               78\n",
       "Nebraska                  77\n",
       "District of Columbia      68\n",
       "Vermont                   61\n",
       "New Hampshire             54\n",
       "Montana                   49\n",
       "West Virginia             43\n",
       "Nevada                    43\n",
       "North Dakota              34\n",
       "South Dakota              28\n",
       "Wyoming                   21\n",
       "Rhode Island              20\n",
       "Delaware                  15\n",
       "Name: State or Province, dtype: int64"
      ]
     },
     "execution_count": 91,
     "metadata": {},
     "output_type": "execute_result"
    }
   ],
   "source": [
    "dataset['State or Province'].value_counts()"
   ]
  },
  {
   "cell_type": "code",
   "execution_count": 92,
   "id": "ea05719a",
   "metadata": {},
   "outputs": [
    {
     "data": {
      "text/plain": [
       "California    1021\n",
       "Texas          646\n",
       "Illinois       584\n",
       "New York       574\n",
       "Florida        522\n",
       "Name: State or Province, dtype: int64"
      ]
     },
     "execution_count": 92,
     "metadata": {},
     "output_type": "execute_result"
    }
   ],
   "source": [
    "# use of [:5] for Top 5 selling state\n",
    "dataset['State or Province'].value_counts()[:5]"
   ]
  },
  {
   "cell_type": "code",
   "execution_count": 93,
   "id": "4c6d672e",
   "metadata": {},
   "outputs": [
    {
     "data": {
      "image/png": "[encoded data removed]",
      "text/plain": [
       "<Figure size 432x288 with 1 Axes>"
      ]
     },
     "metadata": {
      "needs_background": "light"
     },
     "output_type": "display_data"
    }
   ],
   "source": [
    "sns.barplot(x=\"Product Category\",y=\"Product Base Margin\",data=dataset,estimator=sum)\n",
    "plt.show()"
   ]
  },
  {
   "cell_type": "markdown",
   "id": "d750a8f8",
   "metadata": {},
   "source": [
    "from the above graph we can see that The highest product base margin is in the Office Supplies category."
   ]
  },
  {
   "cell_type": "markdown",
   "id": "932e8f84",
   "metadata": {},
   "source": [
    "Suggetion;The margin in the Furniture category is low, which means we need to pay a little more attention to it."
   ]
  },
  {
   "cell_type": "code",
   "execution_count": null,
   "id": "0336f0ec",
   "metadata": {},
   "outputs": [],
   "source": []
  },
  {
   "cell_type": "code",
   "execution_count": null,
   "id": "21788690",
   "metadata": {},
   "outputs": [],
   "source": []
  },
  {
   "cell_type": "code",
   "execution_count": null,
   "id": "f37921a2",
   "metadata": {},
   "outputs": [],
   "source": []
  },
  {
   "cell_type": "code",
   "execution_count": null,
   "id": "fc3e8e13",
   "metadata": {},
   "outputs": [],
   "source": []
  },
  {
   "cell_type": "code",
   "execution_count": null,
   "id": "5b2711b0",
   "metadata": {},
   "outputs": [],
   "source": []
  },
  {
   "cell_type": "code",
   "execution_count": null,
   "id": "d2d8613e",
   "metadata": {},
   "outputs": [],
   "source": []
  },
  {
   "cell_type": "code",
   "execution_count": null,
   "id": "7cc50ca0",
   "metadata": {},
   "outputs": [],
   "source": []
  },
  {
   "cell_type": "code",
   "execution_count": null,
   "id": "61224c34",
   "metadata": {},
   "outputs": [],
   "source": []
  },
  {
   "cell_type": "code",
   "execution_count": null,
   "id": "73ad30a0",
   "metadata": {},
   "outputs": [],
   "source": []
  },
  {
   "cell_type": "code",
   "execution_count": null,
   "id": "7145c003",
   "metadata": {},
   "outputs": [],
   "source": []
  },
  {
   "cell_type": "code",
   "execution_count": null,
   "id": "e2d29dd6",
   "metadata": {},
   "outputs": [],
   "source": []
  },
  {
   "cell_type": "code",
   "execution_count": null,
   "id": "c5beb1f6",
   "metadata": {},
   "outputs": [],
   "source": []
  },
  {
   "cell_type": "code",
   "execution_count": null,
   "id": "a89cd428",
   "metadata": {},
   "outputs": [],
   "source": []
  },
  {
   "cell_type": "code",
   "execution_count": null,
   "id": "a5e06f1b",
   "metadata": {},
   "outputs": [],
   "source": []
  },
  {
   "cell_type": "code",
   "execution_count": null,
   "id": "79c42c1a",
   "metadata": {},
   "outputs": [],
   "source": []
  },
  {
   "cell_type": "code",
   "execution_count": null,
   "id": "cd8fe679",
   "metadata": {},
   "outputs": [],
   "source": []
  },
  {
   "cell_type": "code",
   "execution_count": null,
   "id": "a3bb5a22",
   "metadata": {},
   "outputs": [],
   "source": []
  },
  {
   "cell_type": "code",
   "execution_count": null,
   "id": "3b3ddec3",
   "metadata": {},
   "outputs": [],
   "source": []
  },
  {
   "cell_type": "code",
   "execution_count": null,
   "id": "9e0d595d",
   "metadata": {},
   "outputs": [],
   "source": []
  },
  {
   "cell_type": "code",
   "execution_count": null,
   "id": "a7368d96",
   "metadata": {},
   "outputs": [],
   "source": []
  },
  {
   "cell_type": "code",
   "execution_count": null,
   "id": "44e7144f",
   "metadata": {},
   "outputs": [],
   "source": []
  },
  {
   "cell_type": "code",
   "execution_count": null,
   "id": "1158b55a",
   "metadata": {},
   "outputs": [],
   "source": []
  },
  {
   "cell_type": "code",
   "execution_count": null,
   "id": "27e6d3fd",
   "metadata": {},
   "outputs": [],
   "source": []
  },
  {
   "cell_type": "code",
   "execution_count": null,
   "id": "e618521f",
   "metadata": {},
   "outputs": [],
   "source": []
  },
  {
   "cell_type": "code",
   "execution_count": null,
   "id": "832b4b5e",
   "metadata": {},
   "outputs": [],
   "source": []
  },
  {
   "cell_type": "code",
   "execution_count": null,
   "id": "052e7678",
   "metadata": {},
   "outputs": [],
   "source": []
  },
  {
   "cell_type": "code",
   "execution_count": null,
   "id": "0d723e68",
   "metadata": {},
   "outputs": [],
   "source": []
  },
  {
   "cell_type": "code",
   "execution_count": null,
   "id": "2dde009f",
   "metadata": {},
   "outputs": [],
   "source": []
  },
  {
   "cell_type": "code",
   "execution_count": null,
   "id": "21493eb9",
   "metadata": {},
   "outputs": [],
   "source": []
  },
  {
   "cell_type": "code",
   "execution_count": null,
   "id": "52e80365",
   "metadata": {},
   "outputs": [],
   "source": []
  }
 ],
 "metadata": {
  "kernelspec": {
   "display_name": "Python 3 (ipykernel)",
   "language": "python",
   "name": "python3"
  },
  "language_info": {
   "codemirror_mode": {
    "name": "ipython",
    "version": 3
   },
   "file_extension": ".py",
   "mimetype": "text/x-python",
   "name": "python",
   "nbconvert_exporter": "python",
   "pygments_lexer": "ipython3",
   "version": "3.9.7"
  }
 },
 "nbformat": 4,
 "nbformat_minor": 5
}
